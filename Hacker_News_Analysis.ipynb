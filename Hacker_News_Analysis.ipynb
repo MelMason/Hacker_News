{
 "cells": [
  {
   "cell_type": "markdown",
   "metadata": {},
   "source": [
    "## Hacker News Analysis "
   ]
  },
  {
   "cell_type": "markdown",
   "metadata": {},
   "source": [
    "Questions to be answered:\n",
    "- Do Ask HN or Show HN receive more comments on average?\n",
    "- Do posts created at a certain time receive more comments on average?\n",
    "\n",
    "The dataset being used is a sample set from a larger Dataset. The original dataset was almost 300,000 rows. Rows with missing data, and without comments were removed from the original dataset, leaving about 70,000 rows for analysis.\n",
    "\n",
    "The orginial dataset can be found [here](hacker_news.csv).\n",
    "The cleaned dataset can be found [here](hacker_news_clean.csv).\n"
   ]
  },
  {
   "cell_type": "code",
   "execution_count": 6,
   "metadata": {},
   "outputs": [
    {
     "name": "stdout",
     "output_type": "stream",
     "text": [
      "Header ['id', 'title', 'url', 'num_points', 'num_comments', 'author', 'created_at']\n",
      "\n",
      "\n",
      "First 5 rows \n",
      "[['12578975', 'Saving the Hassle of Shopping', 'https://blog.menswr.com/2016/09/07/whats-new-with-your-style-feed/', '1', '1', 'bdoux', '9/26/16 3:13'], ['12578822', 'Amazons Algorithms Dont Find You the Best Deals', 'https://www.technologyreview.com/s/602442/amazons-algorithms-dont-find-you-the-best-deals/', '1', '1', 'yarapavan', '9/26/16 2:26'], ['12578694', 'Emergency dose of epinephrine that does not cost an arm and a leg', 'http://m.imgur.com/gallery/th6Ua', '2', '1', 'dredmorbius', '9/26/16 1:54'], ['12578624', 'Phone Makers Could Cut Off Drivers. So Why Dont They?', 'http://www.nytimes.com/2016/09/25/technology/phone-makers-could-cut-off-drivers-so-why-dont-they.html', '4', '1', 'danso', '9/26/16 1:37'], ['12578556', 'OpenMW, Open Source Elderscrolls III: Morrowind Reimplementation', 'https://openmw.org/en/', '32', '3', 'rocky1138', '9/26/16 1:24']]\n"
     ]
    }
   ],
   "source": [
    "# Import csv file\n",
    "from csv import reader\n",
    "opened_file=open('hacker_news_clean.csv')\n",
    "read_file=reader(opened_file)\n",
    "hn_total=list(read_file)\n",
    "header = hn_total[0]\n",
    "hn=hn_total[1:]\n",
    "print('Header',header)\n",
    "print(\"\\n\")\n",
    "print(\"First 5 rows \")\n",
    "print(hn[:5])"
   ]
  },
  {
   "cell_type": "code",
   "execution_count": 19,
   "metadata": {},
   "outputs": [
    {
     "name": "stdout",
     "output_type": "stream",
     "text": [
      "Number of \"Ask HN\" posts:  31\n",
      "Number of \"Show HN\" posts:  4845\n",
      "Number of other posts:  65788\n"
     ]
    }
   ],
   "source": [
    "# Separate data into 3 lists based on the title: Ask HN, Show HN, or titles without either\n",
    "ask_posts=[]\n",
    "show_posts=[] \n",
    "other_posts=[]\n",
    "    \n",
    "for row in hn:\n",
    "    title = row[1]\n",
    "    if title.lower().startswith('ask hn'):\n",
    "        ask_posts.append(title)\n",
    "    elif title.lower().startswith('show hn'):\n",
    "        show_posts.append(title)\n",
    "    else:\n",
    "        other_posts.append(title)\n",
    "print('Number of \"Ask HN\" posts: ', len(ask_posts))\n",
    "print('Number of \"Show HN\" posts: ', len(show_posts))\n",
    "print('Number of other posts: ', len(other_posts))"
   ]
  },
  {
   "cell_type": "code",
   "execution_count": null,
   "metadata": {},
   "outputs": [],
   "source": []
  }
 ],
 "metadata": {
  "kernelspec": {
   "display_name": "Python 3",
   "language": "python",
   "name": "python3"
  },
  "language_info": {
   "codemirror_mode": {
    "name": "ipython",
    "version": 3
   },
   "file_extension": ".py",
   "mimetype": "text/x-python",
   "name": "python",
   "nbconvert_exporter": "python",
   "pygments_lexer": "ipython3",
   "version": "3.7.3"
  }
 },
 "nbformat": 4,
 "nbformat_minor": 2
}
