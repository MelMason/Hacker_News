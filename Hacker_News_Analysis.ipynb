{
 "cells": [
  {
   "cell_type": "markdown",
   "metadata": {},
   "source": [
    "## Hacker News Analysis "
   ]
  },
  {
   "cell_type": "markdown",
   "metadata": {},
   "source": [
    "Questions to be answered:\n",
    "- Do Ask HN or Show HN receive more comments on average?\n",
    "- Do posts created at a certain time receive more comments on average?\n",
    "\n",
    "The dataset being used is a sample set from a larger Dataset. The original dataset was almost 300,000 rows. Rows with missing data, and without comments were removed from the original dataset, leaving about 70,000 rows for analysis.\n",
    "\n",
    "The orginial dataset can be found [here](hacker_news.csv).\n",
    "The cleaned dataset can be found [here](hacker_news_clean.csv).\n"
   ]
  },
  {
   "cell_type": "code",
   "execution_count": 31,
   "metadata": {},
   "outputs": [
    {
     "name": "stdout",
     "output_type": "stream",
     "text": [
      "Header ['id', 'title', 'url', 'num_points', 'num_comments', 'author', 'created_at']\n",
      "\n",
      "\n",
      "First 5 rows \n",
      "[['12578975', 'Saving the Hassle of Shopping', 'https://blog.menswr.com/2016/09/07/whats-new-with-your-style-feed/', '1', '1', 'bdoux', '9/26/16 3:13'], ['12578822', 'Amazons Algorithms Dont Find You the Best Deals', 'https://www.technologyreview.com/s/602442/amazons-algorithms-dont-find-you-the-best-deals/', '1', '1', 'yarapavan', '9/26/16 2:26'], ['12578694', 'Emergency dose of epinephrine that does not cost an arm and a leg', 'http://m.imgur.com/gallery/th6Ua', '2', '1', 'dredmorbius', '9/26/16 1:54'], ['12578624', 'Phone Makers Could Cut Off Drivers. So Why Dont They?', 'http://www.nytimes.com/2016/09/25/technology/phone-makers-could-cut-off-drivers-so-why-dont-they.html', '4', '1', 'danso', '9/26/16 1:37'], ['12578556', 'OpenMW, Open Source Elderscrolls III: Morrowind Reimplementation', 'https://openmw.org/en/', '32', '3', 'rocky1138', '9/26/16 1:24']]\n"
     ]
    }
   ],
   "source": [
    "# Import csv file\n",
    "import datetime as dt\n",
    "from csv import reader\n",
    "opened_file=open('hacker_news_clean.csv')\n",
    "read_file=reader(opened_file)\n",
    "hn_total=list(read_file)\n",
    "header = hn_total[0]\n",
    "hn=hn_total[1:]\n",
    "print('Header',header)\n",
    "print(\"\\n\")\n",
    "print(\"First 5 rows \")\n",
    "print(hn[:5])"
   ]
  },
  {
   "cell_type": "code",
   "execution_count": 35,
   "metadata": {},
   "outputs": [
    {
     "name": "stdout",
     "output_type": "stream",
     "text": [
      "Number of \"Ask HN\" posts:  31\n",
      "Number of \"Show HN\" posts:  4845\n",
      "Number of other posts:  65788\n",
      "[['12519557', 'ASK HN: How does mosh shell use UDP but provide reliability like TCP?', 'https://mosh.org/#about', '3', '1', 'sabya', '9/17/16 7:34'], ['12415304', 'Ask HN: Why does this app cost $92M to build and $93M/year to maintain?', 'http://www.datacenterknowledge.com/archives/2016/09/02/google-and-amazon-vie-for-big-inroad-into-wall-street-data-trove/?', '1', '1', 'hackerews', '9/2/16 18:52'], ['12344043', 'ASK HN: Ideas for 10k Apart contest', 'https://a-k-apart.com/', '3', '2', 'abhas9', '8/23/16 14:36'], ['12312283', 'Ask HN: Please review my new startup: www.Concurra.com', 'http://www.concurra.com', '1', '1', 'danushman', '8/18/16 13:26']]\n"
     ]
    }
   ],
   "source": [
    "# Separate data into 3 lists based on the title: Ask HN, Show HN, or titles without either\n",
    "ask_posts=[]\n",
    "show_posts=[] \n",
    "other_posts=[]\n",
    "    \n",
    "for row in hn:\n",
    "    title = row[1]\n",
    "    if title.lower().startswith('ask hn'):\n",
    "        ask_posts.append(row)\n",
    "    elif title.lower().startswith('show hn'):\n",
    "        show_posts.append(row)\n",
    "    else:\n",
    "        other_posts.append(row)\n",
    "print('Number of \"Ask HN\" posts: ', len(ask_posts))\n",
    "print('Number of \"Show HN\" posts: ', len(show_posts))\n",
    "print('Number of other posts: ', len(other_posts))\n",
    "print(ask_posts[:4])"
   ]
  },
  {
   "cell_type": "code",
   "execution_count": 57,
   "metadata": {},
   "outputs": [
    {
     "name": "stdout",
     "output_type": "stream",
     "text": [
      "Average number of Ask HN comments:  2.32\n",
      "Average number of Show HN comments:  10.07\n"
     ]
    }
   ],
   "source": [
    "# Find the average number of comments in Ask HN posts vs Show HN posts\n",
    "total_ask_comments = 0\n",
    "total_show_comments = 0\n",
    "\n",
    "for row in ask_posts:\n",
    "    num_comments=int(row[4])\n",
    "    total_ask_comments= total_ask_comments + num_comments\n",
    "    avg_ask_comments = total_ask_comments/len(ask_posts)\n",
    "    \n",
    "\n",
    "for row in show_posts:\n",
    "    num_show_comments=int(row[4])\n",
    "    total_show_comments= total_show_comments + num_show_comments\n",
    "    avg_show_comments = total_show_comments/len(show_posts)\n",
    "    \n",
    "    \n",
    "print(\"Average number of Ask HN comments: \", round(avg_ask_comments,2))\n",
    "print(\"Average number of Show HN comments: \", round(avg_show_comments,2))\n"
   ]
  },
  {
   "cell_type": "markdown",
   "metadata": {},
   "source": [
    "Posts that contained the \"Show HN\" in the title were 5 times as likely to recieve comments from the Hacker News Community. On average, users who are showing something to the community had an average of about 10 comments per post, whereas users who are asking something had an average of about 2 comments per post. Show posts are far more popular than ask posts."
   ]
  },
  {
   "cell_type": "code",
   "execution_count": 64,
   "metadata": {},
   "outputs": [
    {
     "name": "stdout",
     "output_type": "stream",
     "text": [
      "[['9/25/16 20:06', 1], ['9/25/16 19:06', 1], ['9/25/16 16:50', 1], ['9/25/16 14:30', 1], ['9/25/16 10:50', 3], ['9/25/16 9:19', 1], ['9/25/16 6:48', 1], ['9/25/16 3:06', 1], ['9/24/16 20:07', 26], ['9/24/16 18:35', 1]]\n",
      "4845\n"
     ]
    }
   ],
   "source": [
    "result_list=[]\n",
    "\n",
    "for row in show_posts:\n",
    "    created_at = row[6]\n",
    "    num_show_comments=int(row[4])\n",
    "    new_row=[(created_at),(num_show_comments)]\n",
    "    result_list.append(new_row)\n",
    "print(result_list[:10])\n",
    "print(len(result_list))\n"
   ]
  },
  {
   "cell_type": "code",
   "execution_count": 55,
   "metadata": {},
   "outputs": [
    {
     "name": "stdout",
     "output_type": "stream",
     "text": [
      "{'20': 235, '19': 252, '16': 378, '14': 321, '10': 146, '09': 154, '06': 91, '03': 88, '18': 292, '17': 357, '15': 379, '11': 219, '13': 317, '01': 128, '12': 288, '08': 152, '04': 87, '00': 136, '22': 186, '21': 196, '05': 73, '23': 146, '07': 122, '02': 102}\n",
      "{'20': 2162, '19': 2737, '16': 3738, '14': 3807, '10': 1175, '09': 1400, '06': 885, '03': 915, '18': 3192, '17': 3206, '15': 3786, '11': 2373, '13': 3238, '01': 982, '12': 3523, '08': 1746, '04': 882, '00': 1268, '22': 1426, '21': 1718, '05': 586, '23': 1394, '07': 1565, '02': 1072}\n"
     ]
    }
   ],
   "source": [
    "counts_by_hour = {}\n",
    "comments_by_hour = {}\n",
    "\n",
    "for row in result_list:\n",
    "    date = row[0]\n",
    "    comments = row[1]\n",
    "    date = dt.datetime.strptime(date, \"%m/%d/%y %H:%M\")\n",
    "    date = dt.datetime.strftime(date, \"%H\")\n",
    "    if date not in counts_by_hour:\n",
    "        counts_by_hour[date]=1\n",
    "        comments_by_hour[date]= comments\n",
    "    else:\n",
    "        counts_by_hour[date]+=1\n",
    "        comments_by_hour[date] += comments\n",
    "        \n",
    "print(counts_by_hour)\n",
    "print(comments_by_hour)\n",
    "    "
   ]
  },
  {
   "cell_type": "code",
   "execution_count": 66,
   "metadata": {},
   "outputs": [
    {
     "name": "stdout",
     "output_type": "stream",
     "text": [
      "[['20', 9.2], ['19', 10.86], ['16', 9.89], ['14', 11.86], ['10', 8.05], ['09', 9.09], ['06', 9.73], ['03', 10.4], ['18', 10.93], ['17', 8.98], ['15', 9.99], ['11', 10.84], ['13', 10.21], ['01', 7.67], ['12', 12.23], ['08', 11.49], ['04', 10.14], ['00', 9.32], ['22', 7.67], ['21', 8.77], ['05', 8.03], ['23', 9.55], ['07', 12.83], ['02', 10.51]]\n"
     ]
    }
   ],
   "source": [
    "# avg number of comments per hour\n",
    "\n",
    "hours = []\n",
    "\n",
    "for comment in comments_by_hour:\n",
    "    for hour in counts_by_hour:\n",
    "        if comment == hour:\n",
    "            avg_by_hour=round(comments_by_hour[comment]/counts_by_hour[hour],2)\n",
    "            hours.append([hour, avg_by_hour])\n",
    "print(hours)"
   ]
  },
  {
   "cell_type": "code",
   "execution_count": 69,
   "metadata": {},
   "outputs": [
    {
     "name": "stdout",
     "output_type": "stream",
     "text": [
      "[[9.2, '20'], [10.86, '19'], [9.89, '16'], [11.86, '14'], [8.05, '10'], [9.09, '09'], [9.73, '06'], [10.4, '03'], [10.93, '18'], [8.98, '17'], [9.99, '15'], [10.84, '11'], [10.21, '13'], [7.67, '01'], [12.23, '12'], [11.49, '08'], [10.14, '04'], [9.32, '00'], [7.67, '22'], [8.77, '21'], [8.03, '05'], [9.55, '23'], [12.83, '07'], [10.51, '02']]\n"
     ]
    }
   ],
   "source": [
    "swap_avg_by_hour=[]\n",
    "\n",
    "for row in hours:\n",
    "    hour=row[0]\n",
    "    avg=row[1]\n",
    "    swap_avg_by_hour.append([avg, hour])\n",
    "print(swap_avg_by_hour)"
   ]
  },
  {
   "cell_type": "code",
   "execution_count": 71,
   "metadata": {},
   "outputs": [
    {
     "name": "stdout",
     "output_type": "stream",
     "text": [
      "[[12.83, '07'], [12.23, '12'], [11.86, '14'], [11.49, '08'], [10.93, '18'], [10.86, '19'], [10.84, '11'], [10.51, '02'], [10.4, '03'], [10.21, '13'], [10.14, '04'], [9.99, '15'], [9.89, '16'], [9.73, '06'], [9.55, '23'], [9.32, '00'], [9.2, '20'], [9.09, '09'], [8.98, '17'], [8.77, '21'], [8.05, '10'], [8.03, '05'], [7.67, '22'], [7.67, '01']]\n"
     ]
    }
   ],
   "source": [
    "sorted_swap=sorted(swap_avg_by_hour, reverse=True)\n",
    "print(sorted_swap)"
   ]
  },
  {
   "cell_type": "code",
   "execution_count": 89,
   "metadata": {},
   "outputs": [
    {
     "name": "stdout",
     "output_type": "stream",
     "text": [
      "Top 5 Hours for Ask Posts Comments\n",
      "07:00: 12.83 average comments per post\n",
      "12:00: 12.23 average comments per post\n",
      "14:00: 11.86 average comments per post\n",
      "08:00: 11.49 average comments per post\n",
      "18:00: 10.93 average comments per post\n"
     ]
    }
   ],
   "source": [
    "print(\"Top 5 Hours for Ask Posts Comments\")\n",
    "\n",
    "for row in sorted_swap[:5]:\n",
    "    avg = row[0]\n",
    "    hour=row[1]\n",
    "    hour = dt.datetime.strptime(hour, \"%H\")\n",
    "    hour = dt.datetime.strftime(hour, \"%H:%M\")\n",
    "    template = \"{}: {:,.2f} average comments per post\"\n",
    "    output=template.format(hour, avg)\n",
    "    print(output)\n",
    "    \n",
    "# for index in range(5):\n",
    "#     sort=sorted_swap[index]\n",
    "#     print(sort)\n",
    "#     for row in sort:\n",
    "#         \n",
    "#     \n"
   ]
  },
  {
   "cell_type": "code",
   "execution_count": null,
   "metadata": {},
   "outputs": [],
   "source": []
  }
 ],
 "metadata": {
  "kernelspec": {
   "display_name": "Python 3",
   "language": "python",
   "name": "python3"
  },
  "language_info": {
   "codemirror_mode": {
    "name": "ipython",
    "version": 3
   },
   "file_extension": ".py",
   "mimetype": "text/x-python",
   "name": "python",
   "nbconvert_exporter": "python",
   "pygments_lexer": "ipython3",
   "version": "3.7.3"
  }
 },
 "nbformat": 4,
 "nbformat_minor": 2
}
